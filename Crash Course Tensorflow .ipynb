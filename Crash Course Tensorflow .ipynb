{
 "cells": [
  {
   "cell_type": "code",
   "execution_count": 3,
   "metadata": {},
   "outputs": [],
   "source": [
    "import tensorflow as tf\n",
    "import numpy as np \n",
    "import matplotlib.pyplot as plt\n",
    "from tensorflow import keras"
   ]
  },
  {
   "cell_type": "code",
   "execution_count": 4,
   "metadata": {},
   "outputs": [],
   "source": [
    "data = keras.datasets.fashion_mnist"
   ]
  },
  {
   "cell_type": "code",
   "execution_count": 5,
   "metadata": {},
   "outputs": [],
   "source": [
    "(train_images, train_labels), (test_images, test_labels) = data.load_data()"
   ]
  },
  {
   "cell_type": "code",
   "execution_count": 6,
   "metadata": {},
   "outputs": [],
   "source": [
    "class_names = ['T-shirt/top', 'Trouser', 'Pullover', 'Dress', 'Coat',\n",
    "               'Sandal', 'Shirt', 'Sneaker', 'Bag', 'Ankle boot']\n"
   ]
  },
  {
   "cell_type": "code",
   "execution_count": 7,
   "metadata": {},
   "outputs": [],
   "source": [
    "train_images = train_images / 255.0 # Normalizing from 0 to 1 \n",
    "test_images = test_images / 255.0 # Normalizing from 0 to 1"
   ]
  },
  {
   "cell_type": "markdown",
   "metadata": {},
   "source": [
    "### Defining the model annotations\n",
    "__Flatten:__ It is necessary to flat the data in order to pass to the other neurons with the function:\n",
    "\n",
    "<code>\n",
    "    keras.layers.Flatten(input_shape = (param1 , param2))\n",
    "</code>\n",
    "\n",
    "__Dense layer:__ A fully connected layer (each neuron is connected to every other neuron with the function:\n",
    "\n",
    "<code>\n",
    "    keras.layers.Dense(#_of_neurons, activation = \"activation_func\")\n",
    "</code>\n",
    "\n",
    "*Relu:*  A rectifier function \n",
    "\n",
    "*Softmax:*  Essentially the probability of the network at certain value, this is, it gives a value of what it thinks it is for each given class.\n",
    "    "
   ]
  },
  {
   "cell_type": "code",
   "execution_count": 8,
   "metadata": {},
   "outputs": [],
   "source": [
    "# Defining the model \n",
    "model = keras.Sequential([\n",
    "    keras.layers.Flatten(input_shape = (28, 28)), # Input layer\n",
    "    keras.layers.Dense(128, activation = \"relu\"), # Rectifier layer\n",
    "    keras.layers.Dense(10, activation = \"softmax\") # Softmax layer\n",
    "]) "
   ]
  },
  {
   "cell_type": "markdown",
   "metadata": {},
   "source": [
    "### Setting paramater for the model annotations\n",
    "The parameter *adam* is tipically used while using the function\n",
    "<code>\n",
    "    model.compile(optimizer = \"adam\", loss = \"sparse_categorical_crossentropy\", metrics = [\"accuracy\"])\n",
    "</code>\n",
    "Taking into consideration that we are caring about the accuracy ( *accuracy* might change)"
   ]
  },
  {
   "cell_type": "code",
   "execution_count": 9,
   "metadata": {},
   "outputs": [],
   "source": [
    "# Setting paramaters for the model \n",
    "model.compile(optimizer = \"adam\", loss = \"sparse_categorical_crossentropy\", metrics = [\"accuracy\"])"
   ]
  },
  {
   "cell_type": "markdown",
   "metadata": {},
   "source": [
    "### Training the model annotations\n",
    "\n",
    "In order to train the models, the next function can be useful:\n",
    "\n",
    "<code>\n",
    "    model.fit(training_target, label_target, epochs = #_of_epochs)\n",
    "</code>\n"
   ]
  },
  {
   "cell_type": "code",
   "execution_count": 10,
   "metadata": {},
   "outputs": [
    {
     "name": "stdout",
     "output_type": "stream",
     "text": [
      "Train on 60000 samples\n",
      "Epoch 1/20\n",
      "60000/60000 [==============================] - 3s 52us/sample - loss: 0.4970 - accuracy: 0.8246\n",
      "Epoch 2/20\n",
      "60000/60000 [==============================] - 3s 46us/sample - loss: 0.3741 - accuracy: 0.8646\n",
      "Epoch 3/20\n",
      "60000/60000 [==============================] - 3s 48us/sample - loss: 0.3360 - accuracy: 0.8784\n",
      "Epoch 4/20\n",
      "60000/60000 [==============================] - 3s 52us/sample - loss: 0.3129 - accuracy: 0.8856\n",
      "Epoch 5/20\n",
      "60000/60000 [==============================] - 3s 52us/sample - loss: 0.2947 - accuracy: 0.8908\n",
      "Epoch 6/20\n",
      "60000/60000 [==============================] - 3s 52us/sample - loss: 0.2785 - accuracy: 0.8964\n",
      "Epoch 7/20\n",
      "60000/60000 [==============================] - 3s 52us/sample - loss: 0.2661 - accuracy: 0.9022\n",
      "Epoch 8/20\n",
      "60000/60000 [==============================] - 3s 52us/sample - loss: 0.2556 - accuracy: 0.9054\n",
      "Epoch 9/20\n",
      "60000/60000 [==============================] - 3s 52us/sample - loss: 0.2469 - accuracy: 0.9080\n",
      "Epoch 10/20\n",
      "60000/60000 [==============================] - 5s 82us/sample - loss: 0.2380 - accuracy: 0.9111\n",
      "Epoch 11/20\n",
      "60000/60000 [==============================] - 3s 55us/sample - loss: 0.2275 - accuracy: 0.9146\n",
      "Epoch 12/20\n",
      "60000/60000 [==============================] - 5s 87us/sample - loss: 0.2217 - accuracy: 0.9166\n",
      "Epoch 13/20\n",
      "60000/60000 [==============================] - 4s 65us/sample - loss: 0.2154 - accuracy: 0.9193\n",
      "Epoch 14/20\n",
      "60000/60000 [==============================] - 5s 77us/sample - loss: 0.2100 - accuracy: 0.9207\n",
      "Epoch 15/20\n",
      "60000/60000 [==============================] - 4s 74us/sample - loss: 0.2049 - accuracy: 0.9225\n",
      "Epoch 16/20\n",
      "60000/60000 [==============================] - 4s 72us/sample - loss: 0.1975 - accuracy: 0.9261\n",
      "Epoch 17/20\n",
      "60000/60000 [==============================] - 5s 87us/sample - loss: 0.1911 - accuracy: 0.9277\n",
      "Epoch 18/20\n",
      "60000/60000 [==============================] - 4s 59us/sample - loss: 0.1872 - accuracy: 0.9301\n",
      "Epoch 19/20\n",
      "60000/60000 [==============================] - 5s 85us/sample - loss: 0.1815 - accuracy: 0.9316\n",
      "Epoch 20/20\n",
      "60000/60000 [==============================] - 3s 55us/sample - loss: 0.1777 - accuracy: 0.9330\n"
     ]
    },
    {
     "data": {
      "text/plain": [
       "<tensorflow.python.keras.callbacks.History at 0x7f7ee3d5b6d0>"
      ]
     },
     "execution_count": 10,
     "metadata": {},
     "output_type": "execute_result"
    }
   ],
   "source": [
    "# Training the model\n",
    "model.fit(train_images, train_labels, epochs = 20)\n"
   ]
  },
  {
   "cell_type": "markdown",
   "metadata": {},
   "source": [
    "### Testing the model annotations\n",
    "\n",
    "In order to test the model already trained we should use the function \n",
    "<code>\n",
    "    model.evaluate(target_to_test, label_to_target)\n",
    "</code>\n",
    "that returns two parameters the **loss** and the **accuracy**\n"
   ]
  },
  {
   "cell_type": "code",
   "execution_count": 11,
   "metadata": {},
   "outputs": [
    {
     "name": "stdout",
     "output_type": "stream",
     "text": [
      "10000/10000 [==============================] - 1s 92us/sample - loss: 0.3558 - accuracy: 0.8886\n",
      "-----------------\n",
      "Loss: 0.3558\n",
      "Accuracy: 0.8886\n",
      "-----------------\n"
     ]
    }
   ],
   "source": [
    "# Testing the model with the test images and labels\n",
    "test_loss, test_acc = model.evaluate(test_images, test_labels)\n",
    "print(\"-----------------\")\n",
    "print(\"Loss: %.4f\" % test_loss) \n",
    "print(\"Accuracy: %.4f\" % test_acc)\n",
    "print(\"-----------------\")"
   ]
  },
  {
   "cell_type": "markdown",
   "metadata": {},
   "source": [
    "### Using the model to make predictions\n",
    "\n",
    "An useful function to predict the model and see what returns is \n",
    "<code>\n",
    "    model.predict(target_to_test)\n",
    "</code>\n",
    "It gives you a bunch of predictions, predicting all of them.\n",
    "\n",
    "With the function\n",
    "<code>\n",
    "    np.argmax(prediction)\n",
    "</code>\n",
    "it gets the largest value and finds the index of it\n",
    "\n",
    "In order to see the name instead of the index of the class, it can be done by taking the value and pass it to *class_names* variable that was previously created"
   ]
  },
  {
   "cell_type": "code",
   "execution_count": 32,
   "metadata": {},
   "outputs": [
    {
     "data": {
      "image/png": "[encoded data removed]",
      "text/plain": [
       "<Figure size 720x720 with 20 Axes>"
      ]
     },
     "metadata": {},
     "output_type": "display_data"
    }
   ],
   "source": [
    "predictions = model.predict(test_images)\n",
    "plt.figure(figsize =(10, 10))\n",
    "# prediction = int(len(predictions) / 1000)\n",
    "for prediction in range(int(len(predictions) / 500)):\n",
    "#     print(\"The predicted clothe is:\", class_names[np.argmax(predictions[prediction])])\n",
    "    plt.subplot(5, 5, prediction + 1)\n",
    "    plt.xticks([])\n",
    "    plt.yticks([])\n",
    "    plt.imshow(test_images[prediction], plt.cm.binary)\n",
    "    plt.xlabel(class_names[np.argmax(predictions[prediction])])\n",
    "plt.show()"
   ]
  }
 ],
 "metadata": {
  "kernelspec": {
   "display_name": "Python 3",
   "language": "python",
   "name": "python3"
  },
  "language_info": {
   "codemirror_mode": {
    "name": "ipython",
    "version": 3
   },
   "file_extension": ".py",
   "mimetype": "text/x-python",
   "name": "python",
   "nbconvert_exporter": "python",
   "pygments_lexer": "ipython3",
   "version": "3.7.4"
  }
 },
 "nbformat": 4,
 "nbformat_minor": 4
}
