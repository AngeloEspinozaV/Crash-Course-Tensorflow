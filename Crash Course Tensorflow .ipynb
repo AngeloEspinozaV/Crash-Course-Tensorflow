{
 "cells": [
  {
   "cell_type": "code",
   "execution_count": 1,
   "metadata": {},
   "outputs": [],
   "source": [
    "import tensorflow as tf\n",
    "import numpy as np \n",
    "import matplotlib.pyplot as plt\n",
    "from tensorflow import keras"
   ]
  },
  {
   "cell_type": "code",
   "execution_count": 2,
   "metadata": {},
   "outputs": [],
   "source": [
    "data = keras.datasets.fashion_mnist"
   ]
  },
  {
   "cell_type": "code",
   "execution_count": 3,
   "metadata": {},
   "outputs": [],
   "source": [
    "(train_images, train_labels), (test_images, test_labels) = data.load_data()"
   ]
  },
  {
   "cell_type": "code",
   "execution_count": 4,
   "metadata": {},
   "outputs": [],
   "source": [
    "class_names = ['T-shirt/top', 'Trouser', 'Pullover', 'Dress', 'Coat',\n",
    "               'Sandal', 'Shirt', 'Sneaker', 'Bag', 'Ankle boot']\n"
   ]
  },
  {
   "cell_type": "code",
   "execution_count": 5,
   "metadata": {},
   "outputs": [],
   "source": [
    "train_images = train_images / 255.0 # Normalizing from 0 to 1 \n",
    "test_images = test_images / 255.0 # Normalizing from 0 to 1"
   ]
  },
  {
   "cell_type": "markdown",
   "metadata": {},
   "source": [
    "### Defining the model annotations\n",
    "__Flatten:__ It is necessary to flat the data in order to pass to the other neurons with the function:\n",
    "\n",
    "<code>\n",
    "    keras.layers.Flatten(input_shape = (param1 , param2))\n",
    "</code>\n",
    "\n",
    "__Dense layer:__ A fully connected layer (each neuron is connected to every other neuron with the function:\n",
    "\n",
    "<code>\n",
    "    keras.layers.Dense(#_of_neurons, activation = \"activation_func\")\n",
    "</code>\n",
    "\n",
    "*Relu:*  A rectifier function \n",
    "\n",
    "*Softmax:*  Essentially the probability of the network at certain value, this is, it gives a value of what it thinks it is for each given class.\n",
    "    "
   ]
  },
  {
   "cell_type": "code",
   "execution_count": 6,
   "metadata": {},
   "outputs": [],
   "source": [
    "# Defining the model \n",
    "model = keras.Sequential([\n",
    "    keras.layers.Flatten(input_shape = (28, 28)), # Input layer\n",
    "    keras.layers.Dense(128, activation = \"relu\"), # Rectifier layer\n",
    "    keras.layers.Dense(10, activation = \"softmax\") # Softmax layer\n",
    "]) "
   ]
  },
  {
   "cell_type": "markdown",
   "metadata": {},
   "source": [
    "### Setting paramater for the model annotations\n",
    "The parameter *adam* is tipically used while using the function\n",
    "<code>\n",
    "    model.compile(optimizer = \"adam\", Loss \"sparse_categorical_crossentropy\", metrics = [\"accuracy\"])\n",
    "</code>\n",
    "Taking into consideration that we are caring about the accuracy ( *accuracy* might change)"
   ]
  },
  {
   "cell_type": "code",
   "execution_count": 8,
   "metadata": {},
   "outputs": [],
   "source": [
    "# Setting paramaters for the model \n",
    "model.compile(optimizer = \"adam\", loss = \"sparse_categorical_crossentropy\", metrics = [\"accuracy\"])"
   ]
  },
  {
   "cell_type": "markdown",
   "metadata": {},
   "source": [
    "### Training the model annotations\n",
    "\n",
    "In order to train the models, the next function can be useful:\n",
    "\n",
    "<code>\n",
    "    model.fit(training_target, label_target, epochs = #_of_epochs)\n",
    "</code>\n"
   ]
  },
  {
   "cell_type": "code",
   "execution_count": 17,
   "metadata": {},
   "outputs": [
    {
     "name": "stdout",
     "output_type": "stream",
     "text": [
      "Train on 60000 samples\n",
      "Epoch 1/20\n",
      "60000/60000 [==============================] - 3s 53us/sample - loss: 0.2799 - accuracy: 0.8968\n",
      "Epoch 2/20\n",
      "60000/60000 [==============================] - 3s 51us/sample - loss: 0.2676 - accuracy: 0.9011\n",
      "Epoch 3/20\n",
      "60000/60000 [==============================] - 3s 51us/sample - loss: 0.2563 - accuracy: 0.9048\n",
      "Epoch 4/20\n",
      "60000/60000 [==============================] - 3s 51us/sample - loss: 0.2485 - accuracy: 0.9064\n",
      "Epoch 5/20\n",
      "60000/60000 [==============================] - 3s 51us/sample - loss: 0.2398 - accuracy: 0.9100\n",
      "Epoch 6/20\n",
      "60000/60000 [==============================] - 3s 52us/sample - loss: 0.2303 - accuracy: 0.9134\n",
      "Epoch 7/20\n",
      "60000/60000 [==============================] - 3s 57us/sample - loss: 0.2228 - accuracy: 0.9170\n",
      "Epoch 8/20\n",
      "60000/60000 [==============================] - 3s 51us/sample - loss: 0.2154 - accuracy: 0.9196\n",
      "Epoch 9/20\n",
      "60000/60000 [==============================] - 3s 56us/sample - loss: 0.2094 - accuracy: 0.9203\n",
      "Epoch 10/20\n",
      "60000/60000 [==============================] - 3s 58us/sample - loss: 0.2028 - accuracy: 0.9244\n",
      "Epoch 11/20\n",
      "60000/60000 [==============================] - 6s 94us/sample - loss: 0.1990 - accuracy: 0.9241\n",
      "Epoch 12/20\n",
      "60000/60000 [==============================] - 6s 92us/sample - loss: 0.1917 - accuracy: 0.9276\n",
      "Epoch 13/20\n",
      "60000/60000 [==============================] - 4s 59us/sample - loss: 0.1879 - accuracy: 0.9299\n",
      "Epoch 14/20\n",
      "60000/60000 [==============================] - 4s 58us/sample - loss: 0.1823 - accuracy: 0.9307\n",
      "Epoch 15/20\n",
      "60000/60000 [==============================] - 4s 58us/sample - loss: 0.1776 - accuracy: 0.9335\n",
      "Epoch 16/20\n",
      "60000/60000 [==============================] - 7s 119us/sample - loss: 0.1727 - accuracy: 0.9352\n",
      "Epoch 17/20\n",
      "60000/60000 [==============================] - 4s 67us/sample - loss: 0.1698 - accuracy: 0.9361\n",
      "Epoch 18/20\n",
      "60000/60000 [==============================] - 5s 88us/sample - loss: 0.1643 - accuracy: 0.9390\n",
      "Epoch 19/20\n",
      "60000/60000 [==============================] - 4s 58us/sample - loss: 0.1622 - accuracy: 0.9391\n",
      "Epoch 20/20\n",
      "60000/60000 [==============================] - 5s 88us/sample - loss: 0.1600 - accuracy: 0.9386\n"
     ]
    },
    {
     "data": {
      "text/plain": [
       "<tensorflow.python.keras.callbacks.History at 0x7feb52d7b910>"
      ]
     },
     "execution_count": 17,
     "metadata": {},
     "output_type": "execute_result"
    }
   ],
   "source": [
    "# Training the model\n",
    "model.fit(train_images, train_labels, epochs = 20)\n"
   ]
  },
  {
   "cell_type": "markdown",
   "metadata": {},
   "source": [
    "### Testing the model annotations\n",
    "\n",
    "In order to test the model already trained we should use the function \n",
    "<code>\n",
    "    model.evaluate(testing_target, testing_labels)\n",
    "</code>\n",
    "that returns two parameters the **loss** and the **accuracy**\n"
   ]
  },
  {
   "cell_type": "code",
   "execution_count": 18,
   "metadata": {},
   "outputs": [
    {
     "name": "stdout",
     "output_type": "stream",
     "text": [
      "10000/10000 [==============================] - 0s 47us/sample - loss: 0.3857 - accuracy: 0.8845\n",
      "-----------------\n",
      "Loss: 0.3857\n",
      "Accuracy: 0.8845\n",
      "-----------------\n"
     ]
    }
   ],
   "source": [
    "# Testing the model with the test images and labels\n",
    "test_loss, test_acc = model.evaluate(test_images, test_labels)\n",
    "print(\"-----------------\")\n",
    "print(\"Loss: %.4f\" % test_loss) \n",
    "print(\"Accuracy: %.4f\" % test_acc)\n",
    "print(\"-----------------\")"
   ]
  },
  {
   "cell_type": "code",
   "execution_count": null,
   "metadata": {},
   "outputs": [],
   "source": [
    " "
   ]
  }
 ],
 "metadata": {
  "kernelspec": {
   "display_name": "Python 3",
   "language": "python",
   "name": "python3"
  },
  "language_info": {
   "codemirror_mode": {
    "name": "ipython",
    "version": 3
   },
   "file_extension": ".py",
   "mimetype": "text/x-python",
   "name": "python",
   "nbconvert_exporter": "python",
   "pygments_lexer": "ipython3",
   "version": "3.7.4"
  }
 },
 "nbformat": 4,
 "nbformat_minor": 4
}
